{
  "nbformat": 4,
  "nbformat_minor": 0,
  "metadata": {
    "colab": {
      "provenance": [],
      "authorship_tag": "ABX9TyN92idQCFsr9ot2OIcmqDcj",
      "include_colab_link": true
    },
    "kernelspec": {
      "name": "python3",
      "display_name": "Python 3"
    },
    "language_info": {
      "name": "python"
    }
  },
  "cells": [
    {
      "cell_type": "markdown",
      "metadata": {
        "id": "view-in-github",
        "colab_type": "text"
      },
      "source": [
        "<a href=\"https://colab.research.google.com/github/marioruizgonzalez/ml-medium-exercises/blob/main/ClassificationWithNeuronalNetworks.ipynb\" target=\"_parent\"><img src=\"https://colab.research.google.com/assets/colab-badge.svg\" alt=\"Open In Colab\"/></a>"
      ]
    },
    {
      "cell_type": "code",
      "execution_count": 4,
      "metadata": {
        "colab": {
          "base_uri": "https://localhost:8080/"
        },
        "id": "EIE8klhl1V2I",
        "outputId": "93298fa4-b9ad-4394-9418-7a1070e84a58"
      },
      "outputs": [
        {
          "output_type": "stream",
          "name": "stdout",
          "text": [
            "Downloading data from https://storage.googleapis.com/tensorflow/tf-keras-datasets/train-labels-idx1-ubyte.gz\n",
            "29515/29515 [==============================] - 0s 0us/step\n",
            "Downloading data from https://storage.googleapis.com/tensorflow/tf-keras-datasets/train-images-idx3-ubyte.gz\n",
            "26421880/26421880 [==============================] - 0s 0us/step\n",
            "Downloading data from https://storage.googleapis.com/tensorflow/tf-keras-datasets/t10k-labels-idx1-ubyte.gz\n",
            "5148/5148 [==============================] - 0s 0us/step\n",
            "Downloading data from https://storage.googleapis.com/tensorflow/tf-keras-datasets/t10k-images-idx3-ubyte.gz\n",
            "4422102/4422102 [==============================] - 0s 0us/step\n"
          ]
        }
      ],
      "source": [
        "import tensorflow as tf\n",
        "from tensorflow import keras\n",
        "import numpy as np \n",
        "import matplotlib.pyplot as plt\n",
        "fashion = keras.datasets.fashion_mnist\n",
        "(xtrain,ytrain), (xtest,ytest )= fashion.load_data()"
      ]
    },
    {
      "cell_type": "code",
      "source": [
        "imgIndex = 9 \n",
        "image = xtrain[imgIndex]\n",
        "print(\"Image Label :\", ytrain[imgIndex])\n",
        "plt.imshow(image)"
      ],
      "metadata": {
        "colab": {
          "base_uri": "https://localhost:8080/",
          "height": 301
        },
        "id": "YUSsHXpN2SBO",
        "outputId": "b6d0ab65-a6ff-4e6f-b95a-0771784a74f6"
      },
      "execution_count": 6,
      "outputs": [
        {
          "output_type": "stream",
          "name": "stdout",
          "text": [
            "Image Label : 5\n"
          ]
        },
        {
          "output_type": "execute_result",
          "data": {
            "text/plain": [
              "<matplotlib.image.AxesImage at 0x7f1c5b9c3250>"
            ]
          },
          "metadata": {},
          "execution_count": 6
        },
        {
          "output_type": "display_data",
          "data": {
            "text/plain": [
              "<Figure size 432x288 with 1 Axes>"
            ],
            "image/png": "[encoded data removed]"
          },
          "metadata": {
            "needs_background": "light"
          }
        }
      ]
    },
    {
      "cell_type": "code",
      "source": [
        "print(xtrain.shape)\n",
        "print(xtest.shape)"
      ],
      "metadata": {
        "colab": {
          "base_uri": "https://localhost:8080/"
        },
        "id": "B-S5c4s32qoo",
        "outputId": "6336e370-4686-4913-9e18-53b6ae367572"
      },
      "execution_count": 7,
      "outputs": [
        {
          "output_type": "stream",
          "name": "stdout",
          "text": [
            "(60000, 28, 28)\n",
            "(10000, 28, 28)\n"
          ]
        }
      ]
    },
    {
      "cell_type": "code",
      "source": [
        "model = keras.models.Sequential([\n",
        "    keras.layers.Flatten(input_shape=[28, 28]),\n",
        "    keras.layers.Dense(300, activation=\"relu\"),\n",
        "    keras.layers.Dense(100, activation=\"relu\"),\n",
        "    keras.layers.Dense(10, activation=\"softmax\")\n",
        "])\n",
        "print(model.summary())"
      ],
      "metadata": {
        "colab": {
          "base_uri": "https://localhost:8080/"
        },
        "id": "n-od7Z0b2wcS",
        "outputId": "684381c1-7951-4dfe-a67a-b5637737caeb"
      },
      "execution_count": 9,
      "outputs": [
        {
          "output_type": "stream",
          "name": "stdout",
          "text": [
            "Model: \"sequential\"\n",
            "_________________________________________________________________\n",
            " Layer (type)                Output Shape              Param #   \n",
            "=================================================================\n",
            " flatten (Flatten)           (None, 784)               0         \n",
            "                                                                 \n",
            " dense (Dense)               (None, 300)               235500    \n",
            "                                                                 \n",
            " dense_1 (Dense)             (None, 100)               30100     \n",
            "                                                                 \n",
            " dense_2 (Dense)             (None, 10)                1010      \n",
            "                                                                 \n",
            "=================================================================\n",
            "Total params: 266,610\n",
            "Trainable params: 266,610\n",
            "Non-trainable params: 0\n",
            "_________________________________________________________________\n",
            "None\n"
          ]
        }
      ]
    },
    {
      "cell_type": "code",
      "source": [
        "xvalid, xtrain = xtrain[:5000]/255.0, xtrain[5000:]/255.0\n",
        "yvalid, ytrain = ytrain[:5000], ytrain[5000:]"
      ],
      "metadata": {
        "id": "ojbYrzqY3pBO"
      },
      "execution_count": 10,
      "outputs": []
    },
    {
      "cell_type": "code",
      "source": [
        "model.compile(loss=\"sparse_categorical_crossentropy\",\n",
        "              optimizer=\"sgd\",\n",
        "              metrics=[\"accuracy\"])\n",
        "history = model.fit(xtrain, ytrain, epochs=30,\n",
        "                    validation_data=(xvalid, yvalid))"
      ],
      "metadata": {
        "colab": {
          "base_uri": "https://localhost:8080/"
        },
        "id": "GLIcefsl3wD4",
        "outputId": "7c398f2b-9bd5-4160-fe6f-1c445fe6ea14"
      },
      "execution_count": 11,
      "outputs": [
        {
          "output_type": "stream",
          "name": "stdout",
          "text": [
            "Epoch 1/30\n",
            "1719/1719 [==============================] - 8s 4ms/step - loss: 0.7117 - accuracy: 0.7656 - val_loss: 0.4999 - val_accuracy: 0.8320\n",
            "Epoch 2/30\n",
            "1719/1719 [==============================] - 7s 4ms/step - loss: 0.4900 - accuracy: 0.8285 - val_loss: 0.4579 - val_accuracy: 0.8442\n",
            "Epoch 3/30\n",
            "1719/1719 [==============================] - 7s 4ms/step - loss: 0.4450 - accuracy: 0.8441 - val_loss: 0.4435 - val_accuracy: 0.8452\n",
            "Epoch 4/30\n",
            "1719/1719 [==============================] - 7s 4ms/step - loss: 0.4163 - accuracy: 0.8553 - val_loss: 0.4087 - val_accuracy: 0.8608\n",
            "Epoch 5/30\n",
            "1719/1719 [==============================] - 7s 4ms/step - loss: 0.3948 - accuracy: 0.8616 - val_loss: 0.3786 - val_accuracy: 0.8686\n",
            "Epoch 6/30\n",
            "1719/1719 [==============================] - 7s 4ms/step - loss: 0.3777 - accuracy: 0.8681 - val_loss: 0.3619 - val_accuracy: 0.8730\n",
            "Epoch 7/30\n",
            "1719/1719 [==============================] - 7s 4ms/step - loss: 0.3630 - accuracy: 0.8720 - val_loss: 0.3701 - val_accuracy: 0.8712\n",
            "Epoch 8/30\n",
            "1719/1719 [==============================] - 8s 4ms/step - loss: 0.3516 - accuracy: 0.8757 - val_loss: 0.3648 - val_accuracy: 0.8708\n",
            "Epoch 9/30\n",
            "1719/1719 [==============================] - 7s 4ms/step - loss: 0.3390 - accuracy: 0.8797 - val_loss: 0.3504 - val_accuracy: 0.8750\n",
            "Epoch 10/30\n",
            "1719/1719 [==============================] - 8s 5ms/step - loss: 0.3312 - accuracy: 0.8824 - val_loss: 0.3425 - val_accuracy: 0.8760\n",
            "Epoch 11/30\n",
            "1719/1719 [==============================] - 8s 5ms/step - loss: 0.3219 - accuracy: 0.8848 - val_loss: 0.3572 - val_accuracy: 0.8760\n",
            "Epoch 12/30\n",
            "1719/1719 [==============================] - 9s 5ms/step - loss: 0.3141 - accuracy: 0.8877 - val_loss: 0.3347 - val_accuracy: 0.8794\n",
            "Epoch 13/30\n",
            "1719/1719 [==============================] - 7s 4ms/step - loss: 0.3062 - accuracy: 0.8909 - val_loss: 0.3494 - val_accuracy: 0.8728\n",
            "Epoch 14/30\n",
            "1719/1719 [==============================] - 7s 4ms/step - loss: 0.2994 - accuracy: 0.8929 - val_loss: 0.3349 - val_accuracy: 0.8798\n",
            "Epoch 15/30\n",
            "1719/1719 [==============================] - 7s 4ms/step - loss: 0.2932 - accuracy: 0.8953 - val_loss: 0.3210 - val_accuracy: 0.8840\n",
            "Epoch 16/30\n",
            "1719/1719 [==============================] - 7s 4ms/step - loss: 0.2865 - accuracy: 0.8978 - val_loss: 0.3184 - val_accuracy: 0.8830\n",
            "Epoch 17/30\n",
            "1719/1719 [==============================] - 7s 4ms/step - loss: 0.2811 - accuracy: 0.8994 - val_loss: 0.3093 - val_accuracy: 0.8858\n",
            "Epoch 18/30\n",
            "1719/1719 [==============================] - 7s 4ms/step - loss: 0.2753 - accuracy: 0.9012 - val_loss: 0.3089 - val_accuracy: 0.8888\n",
            "Epoch 19/30\n",
            "1719/1719 [==============================] - 7s 4ms/step - loss: 0.2702 - accuracy: 0.9025 - val_loss: 0.3030 - val_accuracy: 0.8882\n",
            "Epoch 20/30\n",
            "1719/1719 [==============================] - 7s 4ms/step - loss: 0.2653 - accuracy: 0.9049 - val_loss: 0.3155 - val_accuracy: 0.8868\n",
            "Epoch 21/30\n",
            "1719/1719 [==============================] - 7s 4ms/step - loss: 0.2604 - accuracy: 0.9063 - val_loss: 0.3040 - val_accuracy: 0.8876\n",
            "Epoch 22/30\n",
            "1719/1719 [==============================] - 7s 4ms/step - loss: 0.2561 - accuracy: 0.9078 - val_loss: 0.3060 - val_accuracy: 0.8888\n",
            "Epoch 23/30\n",
            "1719/1719 [==============================] - 7s 4ms/step - loss: 0.2508 - accuracy: 0.9097 - val_loss: 0.3045 - val_accuracy: 0.8900\n",
            "Epoch 24/30\n",
            "1719/1719 [==============================] - 7s 4ms/step - loss: 0.2471 - accuracy: 0.9112 - val_loss: 0.3805 - val_accuracy: 0.8694\n",
            "Epoch 25/30\n",
            "1719/1719 [==============================] - 7s 4ms/step - loss: 0.2426 - accuracy: 0.9142 - val_loss: 0.3178 - val_accuracy: 0.8852\n",
            "Epoch 26/30\n",
            "1719/1719 [==============================] - 7s 4ms/step - loss: 0.2387 - accuracy: 0.9142 - val_loss: 0.3273 - val_accuracy: 0.8796\n",
            "Epoch 27/30\n",
            "1719/1719 [==============================] - 7s 4ms/step - loss: 0.2342 - accuracy: 0.9164 - val_loss: 0.2997 - val_accuracy: 0.8926\n",
            "Epoch 28/30\n",
            "1719/1719 [==============================] - 7s 4ms/step - loss: 0.2301 - accuracy: 0.9173 - val_loss: 0.2955 - val_accuracy: 0.8930\n",
            "Epoch 29/30\n",
            "1719/1719 [==============================] - 7s 4ms/step - loss: 0.2260 - accuracy: 0.9183 - val_loss: 0.3255 - val_accuracy: 0.8826\n",
            "Epoch 30/30\n",
            "1719/1719 [==============================] - 7s 4ms/step - loss: 0.2226 - accuracy: 0.9203 - val_loss: 0.2922 - val_accuracy: 0.8942\n"
          ]
        }
      ]
    },
    {
      "cell_type": "code",
      "source": [
        "new = xtest[:1]"
      ],
      "metadata": {
        "id": "tzX7eQk95NPb"
      },
      "execution_count": 12,
      "outputs": []
    },
    {
      "cell_type": "code",
      "source": [
        "predictions = model.predict(new)\n",
        "print(predictions)"
      ],
      "metadata": {
        "colab": {
          "base_uri": "https://localhost:8080/"
        },
        "id": "W50RtJwE5RUM",
        "outputId": "3875205e-e9d4-46e9-de24-f4efe385bf73"
      },
      "execution_count": 13,
      "outputs": [
        {
          "output_type": "stream",
          "name": "stdout",
          "text": [
            "1/1 [==============================] - 0s 84ms/step\n",
            "[[0. 0. 0. 0. 0. 0. 0. 0. 0. 1.]]\n"
          ]
        }
      ]
    },
    {
      "cell_type": "code",
      "source": [
        "classes = np.argmax(predictions, axis=1)\n",
        "print(classes)"
      ],
      "metadata": {
        "colab": {
          "base_uri": "https://localhost:8080/"
        },
        "id": "ZJzZqi0Z5cea",
        "outputId": "0a666468-2684-4d90-cbd9-59b3911d6630"
      },
      "execution_count": 14,
      "outputs": [
        {
          "output_type": "stream",
          "name": "stdout",
          "text": [
            "[9]\n"
          ]
        }
      ]
    }
  ]
}